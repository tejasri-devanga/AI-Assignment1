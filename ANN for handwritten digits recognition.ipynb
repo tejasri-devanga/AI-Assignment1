{
 "cells": [
  {
   "cell_type": "code",
   "execution_count": 21,
   "metadata": {},
   "outputs": [
    {
     "name": "stdout",
     "output_type": "stream",
     "text": [
      "Extracting MNIST_data/train-images-idx3-ubyte.gz\n",
      "Extracting MNIST_data/train-labels-idx1-ubyte.gz\n",
      "Extracting MNIST_data/t10k-images-idx3-ubyte.gz\n",
      "Extracting MNIST_data/t10k-labels-idx1-ubyte.gz\n"
     ]
    }
   ],
   "source": [
    "#data preparation\n",
    "from tensorflow.examples.tutorials.mnist import input_data\n",
    "mnist = input_data.read_data_sets(\"MNIST_data/\", one_hot=True)"
   ]
  },
  {
   "cell_type": "code",
   "execution_count": 22,
   "metadata": {},
   "outputs": [],
   "source": [
    "import tensorflow as tf"
   ]
  },
  {
   "cell_type": "code",
   "execution_count": 23,
   "metadata": {},
   "outputs": [],
   "source": [
    "# hyperparameters\n",
    "alpha = 0.5\n",
    "noOfepochs = 14\n",
    "batch_size = 60"
   ]
  },
  {
   "cell_type": "code",
   "execution_count": 24,
   "metadata": {},
   "outputs": [],
   "source": [
    "#neurons in first layer\n",
    "n_hl_1 = 520\n",
    "#neurons in second layer\n",
    "n_hl_2 = 260\n",
    "\n",
    "# declare the training data placeholders\n",
    "# input image - for 28 x 28 pixels = 784\n",
    "x = tf.placeholder(tf.float32, [None, 784])\n",
    "# output labels - 10 digits\n",
    "y = tf.placeholder(tf.float32, [None, 10])\n"
   ]
  },
  {
   "cell_type": "code",
   "execution_count": 25,
   "metadata": {},
   "outputs": [],
   "source": [
    "# initial weights and biases for the first hidden layer\n",
    "W1 = tf.Variable(tf.random_normal([784, n_hl_1], stddev=0.03), name='W1')\n",
    "b1 = tf.Variable(tf.random_normal([n_hl_1]), name='b1')\n",
    "# initial weights and biases for the second hidden layer\n",
    "W2 = tf.Variable(tf.random_normal([n_hl_1, n_hl_2], stddev=0.03), name='W2')\n",
    "b2 = tf.Variable(tf.random_normal([n_hl_2]), name='b2')\n",
    "# initial weights and biases for the output layer\n",
    "W3 = tf.Variable(tf.random_normal([n_hl_2, 10], stddev=0.03), name='W3')\n",
    "b3 = tf.Variable(tf.random_normal([10]), name='b3')"
   ]
  },
  {
   "cell_type": "code",
   "execution_count": 26,
   "metadata": {},
   "outputs": [],
   "source": [
    "#using ReLU activation function output for first hidden layer\n",
    "hidden1_out = tf.add(tf.matmul(x, W1), b1)\n",
    "hidden1_out = tf.nn.relu(hidden1_out)\n",
    "#using ReLU activation function output for second hidden layer\n",
    "hidden2_out = tf.add(tf.matmul(hidden1_out, W2), b2)\n",
    "hidden2_out = tf.nn.relu(hidden2_out)\n",
    "\n",
    "#using softmax activation function output for output layer\n",
    "y_ = tf.nn.softmax(tf.add(tf.matmul(hidden2_out, W3), b3))\n",
    "\n",
    "y_clipped = tf.clip_by_value(y_, 1e-10, 0.9999999)"
   ]
  },
  {
   "cell_type": "code",
   "execution_count": 27,
   "metadata": {},
   "outputs": [],
   "source": [
    "# cost function [cross_entropy]\n",
    "cross_entropy = -tf.reduce_mean(tf.reduce_sum(y * tf.log(y_clipped) + (1 - y) * tf.log(1 - y_clipped), axis=1))\n",
    "                         \n",
    "# defining the optimiser\n",
    "optimiser = tf.train.AdamOptimizer(learning_rate=0.001).minimize(cross_entropy)"
   ]
  },
  {
   "cell_type": "code",
   "execution_count": 20,
   "metadata": {},
   "outputs": [
    {
     "name": "stdout",
     "output_type": "stream",
     "text": [
      "('Epoch:', 1, 'loss =', '0.470')\n",
      "('Epoch:', 2, 'loss =', '0.182')\n",
      "('Epoch:', 3, 'loss =', '0.120')\n",
      "('Epoch:', 4, 'loss =', '0.086')\n",
      "('Epoch:', 5, 'loss =', '0.068')\n",
      "('Epoch:', 6, 'loss =', '0.052')\n",
      "('Epoch:', 7, 'loss =', '0.042')\n",
      "('Epoch:', 8, 'loss =', '0.038')\n",
      "('Epoch:', 9, 'loss =', '0.032')\n",
      "('Epoch:', 10, 'loss =', '0.025')\n",
      "('Epoch:', 11, 'loss =', '0.026')\n",
      "('Epoch:', 12, 'loss =', '0.024')\n",
      "('Epoch:', 13, 'loss =', '0.022')\n",
      "('Epoch:', 14, 'loss =', '0.017')\n",
      "0.978\n"
     ]
    }
   ],
   "source": [
    "# setting up the initialisation operator\n",
    "init_op = tf.global_variables_initializer()\n",
    "\n",
    "correct_prediction = tf.equal(tf.argmax(y, 1), tf.argmax(y_, 1))\n",
    "accuracy = tf.reduce_mean(tf.cast(correct_prediction, tf.float32))\n",
    "#session start\n",
    "with tf.Session() as sess:\n",
    "   # variables initialisation\n",
    "   sess.run(init_op)\n",
    "   total_batch = int(len(mnist.train.labels) / batch_size)\n",
    "   for epoch in range(noOfepochs):\n",
    "        avg_cost = 0\n",
    "        for i in range(total_batch):\n",
    "            batch_x, batch_y = mnist.train.next_batch(batch_size=batch_size)\n",
    "            _, c = sess.run([optimiser, cross_entropy], \n",
    "                         feed_dict={x: batch_x, y: batch_y})\n",
    "            avg_cost += c / total_batch\n",
    "        print(\"Epoch:\", (epoch + 1), \"loss =\", \"{:.3f}\".format(avg_cost))\n",
    "   print(sess.run(accuracy, feed_dict={x: mnist.test.images, y: mnist.test.labels}))"
   ]
  }
 ],
 "metadata": {
  "kernelspec": {
   "display_name": "Python 2",
   "language": "python",
   "name": "python2"
  },
  "language_info": {
   "codemirror_mode": {
    "name": "ipython",
    "version": 2
   },
   "file_extension": ".py",
   "mimetype": "text/x-python",
   "name": "python",
   "nbconvert_exporter": "python",
   "pygments_lexer": "ipython2",
   "version": "2.7.12"
  }
 },
 "nbformat": 4,
 "nbformat_minor": 2
}
